{
 "cells": [
  {
   "cell_type": "code",
   "execution_count": 84,
   "metadata": {},
   "outputs": [],
   "source": [
    "import pandas as pd\n",
    "import numpy as np\n",
    "from matplotlib import pyplot as plt\n",
    "import seaborn as sns\n",
    "import statsmodels.formula.api as smf\n",
    "pd.options.display.max_rows = 999\n",
    "pd.options.display.max_columns = 30\n",
    "\n",
    "#dataframes\n",
    "ls = pd.read_csv('listings.csv')\n",
    "nb = pd.read_csv('neighbourhoods.csv')\n",
    "rv = pd.read_csv('reviews.csv')\n",
    "cl = pd.read_csv('calendar.csv')"
   ]
  },
  {
   "cell_type": "code",
   "execution_count": 9,
   "metadata": {},
   "outputs": [],
   "source": [
    "#rename column id to listing_id\n",
    "ls = ls.rename(columns={'id':'listing_id'})"
   ]
  },
  {
   "cell_type": "code",
   "execution_count": 14,
   "metadata": {
    "scrolled": true
   },
   "outputs": [],
   "source": [
    "#drop empty columns\n",
    "ls.drop('neighbourhood_group', axis = 1, inplace = True)"
   ]
  },
  {
   "cell_type": "code",
   "execution_count": 31,
   "metadata": {
    "scrolled": true
   },
   "outputs": [
    {
     "name": "stdout",
     "output_type": "stream",
     "text": [
      "<class 'pandas.core.frame.DataFrame'>\n",
      "RangeIndex: 7889 entries, 0 to 7888\n",
      "Data columns (total 15 columns):\n",
      " #   Column                          Non-Null Count  Dtype  \n",
      "---  ------                          --------------  -----  \n",
      " 0   listing_id                      7889 non-null   int64  \n",
      " 1   name                            7889 non-null   object \n",
      " 2   host_id                         7889 non-null   int64  \n",
      " 3   host_name                       7889 non-null   object \n",
      " 4   neighbourhood                   7889 non-null   object \n",
      " 5   latitude                        7889 non-null   float64\n",
      " 6   longitude                       7889 non-null   float64\n",
      " 7   room_type                       7889 non-null   object \n",
      " 8   price                           7889 non-null   int64  \n",
      " 9   minimum_nights                  7889 non-null   int64  \n",
      " 10  number_of_reviews               7889 non-null   int64  \n",
      " 11  last_review                     6655 non-null   object \n",
      " 12  reviews_per_month               6655 non-null   float64\n",
      " 13  calculated_host_listings_count  7889 non-null   int64  \n",
      " 14  availability_365                7889 non-null   int64  \n",
      "dtypes: float64(3), int64(7), object(5)\n",
      "memory usage: 924.6+ KB\n"
     ]
    }
   ],
   "source": [
    "#check if both worked\n",
    "ls.info()"
   ]
  },
  {
   "cell_type": "code",
   "execution_count": 7,
   "metadata": {
    "scrolled": false
   },
   "outputs": [
    {
     "data": {
      "text/plain": [
       "<matplotlib.axes._subplots.AxesSubplot at 0x106b52610>"
      ]
     },
     "execution_count": 7,
     "metadata": {},
     "output_type": "execute_result"
    },
    {
     "data": {
      "image/png": "[encoded data removed]",
      "text/plain": [
       "<Figure size 432x288 with 1 Axes>"
      ]
     },
     "metadata": {
      "needs_background": "light"
     },
     "output_type": "display_data"
    }
   ],
   "source": [
    "#Which room type is most popular overall?\n",
    "sns.countplot(x=ls['room_type'], hue=ls['room_type'], order = ls['room_type'].value_counts().index)"
   ]
  },
  {
   "cell_type": "code",
   "execution_count": 36,
   "metadata": {},
   "outputs": [
    {
     "data": {
      "text/html": [
       "<div>\n",
       "<style scoped>\n",
       "    .dataframe tbody tr th:only-of-type {\n",
       "        vertical-align: middle;\n",
       "    }\n",
       "\n",
       "    .dataframe tbody tr th {\n",
       "        vertical-align: top;\n",
       "    }\n",
       "\n",
       "    .dataframe thead th {\n",
       "        text-align: right;\n",
       "    }\n",
       "</style>\n",
       "<table border=\"1\" class=\"dataframe\">\n",
       "  <thead>\n",
       "    <tr style=\"text-align: right;\">\n",
       "      <th></th>\n",
       "      <th>listing_id</th>\n",
       "      <th>host_id</th>\n",
       "      <th>latitude</th>\n",
       "      <th>longitude</th>\n",
       "      <th>price</th>\n",
       "      <th>minimum_nights</th>\n",
       "      <th>number_of_reviews</th>\n",
       "      <th>reviews_per_month</th>\n",
       "      <th>calculated_host_listings_count</th>\n",
       "      <th>availability_365</th>\n",
       "    </tr>\n",
       "    <tr>\n",
       "      <th>room_type</th>\n",
       "      <th></th>\n",
       "      <th></th>\n",
       "      <th></th>\n",
       "      <th></th>\n",
       "      <th></th>\n",
       "      <th></th>\n",
       "      <th></th>\n",
       "      <th></th>\n",
       "      <th></th>\n",
       "      <th></th>\n",
       "    </tr>\n",
       "  </thead>\n",
       "  <tbody>\n",
       "    <tr>\n",
       "      <th>Hotel room</th>\n",
       "      <td>2.547061e+07</td>\n",
       "      <td>8.475386e+07</td>\n",
       "      <td>41.908240</td>\n",
       "      <td>-87.643676</td>\n",
       "      <td>261.306667</td>\n",
       "      <td>2.120000</td>\n",
       "      <td>42.786667</td>\n",
       "      <td>2.379508</td>\n",
       "      <td>13.253333</td>\n",
       "      <td>138.573333</td>\n",
       "    </tr>\n",
       "    <tr>\n",
       "      <th>Entire home/apt</th>\n",
       "      <td>2.805788e+07</td>\n",
       "      <td>9.492179e+07</td>\n",
       "      <td>41.901721</td>\n",
       "      <td>-87.661493</td>\n",
       "      <td>194.034760</td>\n",
       "      <td>7.537657</td>\n",
       "      <td>41.189124</td>\n",
       "      <td>1.967557</td>\n",
       "      <td>18.893665</td>\n",
       "      <td>169.128387</td>\n",
       "    </tr>\n",
       "    <tr>\n",
       "      <th>Private room</th>\n",
       "      <td>2.630111e+07</td>\n",
       "      <td>9.437260e+07</td>\n",
       "      <td>41.891955</td>\n",
       "      <td>-87.668227</td>\n",
       "      <td>113.255211</td>\n",
       "      <td>4.261591</td>\n",
       "      <td>44.199064</td>\n",
       "      <td>1.813012</td>\n",
       "      <td>7.819651</td>\n",
       "      <td>155.396852</td>\n",
       "    </tr>\n",
       "    <tr>\n",
       "      <th>Shared room</th>\n",
       "      <td>2.420868e+07</td>\n",
       "      <td>9.881879e+07</td>\n",
       "      <td>41.899313</td>\n",
       "      <td>-87.662399</td>\n",
       "      <td>44.991071</td>\n",
       "      <td>3.598214</td>\n",
       "      <td>25.598214</td>\n",
       "      <td>0.907895</td>\n",
       "      <td>9.116071</td>\n",
       "      <td>143.339286</td>\n",
       "    </tr>\n",
       "  </tbody>\n",
       "</table>\n",
       "</div>"
      ],
      "text/plain": [
       "                   listing_id       host_id   latitude  longitude       price  \\\n",
       "room_type                                                                       \n",
       "Hotel room       2.547061e+07  8.475386e+07  41.908240 -87.643676  261.306667   \n",
       "Entire home/apt  2.805788e+07  9.492179e+07  41.901721 -87.661493  194.034760   \n",
       "Private room     2.630111e+07  9.437260e+07  41.891955 -87.668227  113.255211   \n",
       "Shared room      2.420868e+07  9.881879e+07  41.899313 -87.662399   44.991071   \n",
       "\n",
       "                 minimum_nights  number_of_reviews  reviews_per_month  \\\n",
       "room_type                                                               \n",
       "Hotel room             2.120000          42.786667           2.379508   \n",
       "Entire home/apt        7.537657          41.189124           1.967557   \n",
       "Private room           4.261591          44.199064           1.813012   \n",
       "Shared room            3.598214          25.598214           0.907895   \n",
       "\n",
       "                 calculated_host_listings_count  availability_365  \n",
       "room_type                                                          \n",
       "Hotel room                            13.253333        138.573333  \n",
       "Entire home/apt                       18.893665        169.128387  \n",
       "Private room                           7.819651        155.396852  \n",
       "Shared room                            9.116071        143.339286  "
      ]
     },
     "execution_count": 36,
     "metadata": {},
     "output_type": "execute_result"
    }
   ],
   "source": [
    "#avg pricing by room types?\n",
    "mean_roomtype = ls.groupby('room_type')\n",
    "mean_roomtype = mean_roomtype.mean()\n",
    "mean_roomtype = mean_roomtype.sort_values('price', ascending = False)\n",
    "mean_roomtype"
   ]
  },
  {
   "cell_type": "code",
   "execution_count": 65,
   "metadata": {},
   "outputs": [
    {
     "data": {
      "text/plain": [
       "host_id    host_name         \n",
       "107434423  Blueground            220\n",
       "12243051   Sonder                 98\n",
       "55976787   Natalia                80\n",
       "3965428    Rob                    76\n",
       "8534462    Corp Condos & Apts     62\n",
       "88566861   Kasa                   61\n",
       "47172572   Zencity                61\n",
       "99375151   Marina                 45\n",
       "229095817  Loftium                45\n",
       "9094538    Nicole                 39\n",
       "Name: calculated_host_listings_count, dtype: int64"
      ]
     },
     "execution_count": 65,
     "metadata": {},
     "output_type": "execute_result"
    }
   ],
   "source": [
    "#Who is the most popular host?\n",
    "group_host = ls.groupby(['host_id','host_name'])\n",
    "group_host = group_host['calculated_host_listings_count'].count()\n",
    "group_host = group_host.sort_values(ascending = False)\n",
    "group_host.head(10)"
   ]
  },
  {
   "cell_type": "code",
   "execution_count": 59,
   "metadata": {},
   "outputs": [
    {
     "data": {
      "text/plain": [
       "Index(['listing_id', 'name', 'host_id', 'host_name', 'neighbourhood',\n",
       "       'latitude', 'longitude', 'room_type', 'price', 'minimum_nights',\n",
       "       'number_of_reviews', 'last_review', 'reviews_per_month',\n",
       "       'calculated_host_listings_count', 'availability_365'],\n",
       "      dtype='object')"
      ]
     },
     "execution_count": 59,
     "metadata": {},
     "output_type": "execute_result"
    }
   ],
   "source": [
    "ls.columns"
   ]
  },
  {
   "cell_type": "code",
   "execution_count": 88,
   "metadata": {},
   "outputs": [
    {
     "data": {
      "text/plain": [
       "host_id    host_name           room_type      \n",
       "107434423  Blueground          Entire home/apt    220\n",
       "12243051   Sonder              Entire home/apt     92\n",
       "55976787   Natalia             Private room        80\n",
       "3965428    Rob                 Entire home/apt     75\n",
       "8534462    Corp Condos & Apts  Entire home/apt     62\n",
       "                                                 ... \n",
       "91366430   Lacey               Entire home/apt      1\n",
       "91194876   Steven              Entire home/apt      1\n",
       "91175420   Rachel              Entire home/apt      1\n",
       "90924431   Magdalena           Entire home/apt      1\n",
       "2140       Lois                Entire home/apt      1\n",
       "Name: calculated_host_listings_count, Length: 4522, dtype: int64"
      ]
     },
     "execution_count": 88,
     "metadata": {},
     "output_type": "execute_result"
    }
   ],
   "source": [
    "#what kind of properties do these top 10 hosts have?\n",
    "\n",
    "\n",
    "host_room = ls.groupby(['host_id','host_name','room_type'])\n",
    "host_room = host_room['calculated_host_listings_count'].count()\n",
    "host_room = host_room.sort_values(ascending = False)\n",
    "host_room\n",
    "\n",
    "#how do I sort by the host_name?\n",
    "#  df.sort_values(by=['col1'])"
   ]
  },
  {
   "cell_type": "code",
   "execution_count": 91,
   "metadata": {},
   "outputs": [
    {
     "data": {
      "text/plain": [
       "Index(['id', 'name', 'host_id', 'host_name', 'neighbourhood_group',\n",
       "       'neighbourhood', 'latitude', 'longitude', 'room_type', 'price',\n",
       "       'minimum_nights', 'number_of_reviews', 'last_review',\n",
       "       'reviews_per_month', 'calculated_host_listings_count',\n",
       "       'availability_365'],\n",
       "      dtype='object')"
      ]
     },
     "execution_count": 91,
     "metadata": {},
     "output_type": "execute_result"
    }
   ],
   "source": [
    "ls.columns"
   ]
  },
  {
   "cell_type": "code",
   "execution_count": 98,
   "metadata": {},
   "outputs": [
    {
     "data": {
      "text/plain": [
       "neighbourhood    host_name         \n",
       "Loop             Blueground            86\n",
       "Near West Side   Natalia               73\n",
       "Near North Side  Blueground            71\n",
       "                 Corp Condos & Apts    62\n",
       "Near West Side   Blueground            46\n",
       "                 Marina                42\n",
       "Near North Side  Rob                   35\n",
       "Loop             Kasa                  33\n",
       "Lake View        Nicole                29\n",
       "Near North Side  Kasa                  28\n",
       "Name: host_name, dtype: int64"
      ]
     },
     "execution_count": 98,
     "metadata": {},
     "output_type": "execute_result"
    }
   ],
   "source": [
    "#which neighborhoods are the top ten located in?\n",
    "hostname = ls.groupby('neighbourhood')['host_name'].value_counts()\n",
    "hostname = hostname.sort_values(ascending = False)\n",
    "hostname.head(10)"
   ]
  },
  {
   "cell_type": "code",
   "execution_count": 99,
   "metadata": {},
   "outputs": [
    {
     "data": {
      "text/plain": [
       "Index(['id', 'name', 'host_id', 'host_name', 'neighbourhood_group',\n",
       "       'neighbourhood', 'latitude', 'longitude', 'room_type', 'price',\n",
       "       'minimum_nights', 'number_of_reviews', 'last_review',\n",
       "       'reviews_per_month', 'calculated_host_listings_count',\n",
       "       'availability_365'],\n",
       "      dtype='object')"
      ]
     },
     "execution_count": 99,
     "metadata": {},
     "output_type": "execute_result"
    }
   ],
   "source": [
    "ls.columns"
   ]
  },
  {
   "cell_type": "code",
   "execution_count": null,
   "metadata": {},
   "outputs": [],
   "source": [
    "#minimum nights and price\n",
    "minprice = ls.groupby(['host_id','host_name','minimum_nights'])\n",
    "minprice = minprice['calculated_host_listings_count'].count()\n",
    "host_room = host_room.sort_values(ascending = False)\n",
    "host_room"
   ]
  }
 ],
 "metadata": {
  "kernelspec": {
   "display_name": "Python 3.7.6 64-bit ('base': conda)",
   "language": "python",
   "name": "python37664bitbaseconda6a77b87aff024bd78bf8408db8b329e1"
  },
  "language_info": {
   "codemirror_mode": {
    "name": "ipython",
    "version": 3
   },
   "file_extension": ".py",
   "mimetype": "text/x-python",
   "name": "python",
   "nbconvert_exporter": "python",
   "pygments_lexer": "ipython3",
   "version": "3.7.6"
  }
 },
 "nbformat": 4,
 "nbformat_minor": 4
}
